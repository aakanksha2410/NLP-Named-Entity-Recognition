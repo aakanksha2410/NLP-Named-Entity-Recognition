{
  "nbformat": 4,
  "nbformat_minor": 0,
  "metadata": {
    "colab": {
      "name": "Untitled3.ipynb",
      "provenance": []
    },
    "kernelspec": {
      "name": "python3",
      "display_name": "Python 3"
    },
    "language_info": {
      "name": "python"
    }
  },
  "cells": [
    {
      "cell_type": "code",
      "metadata": {
        "id": "f-qpv9TimDpK"
      },
      "source": [
        ""
      ],
      "execution_count": null,
      "outputs": []
    },
    {
      "cell_type": "markdown",
      "metadata": {
        "id": "xy04J70ayDBm"
      },
      "source": [
        "# **Named Entity Recognition**"
      ]
    },
    {
      "cell_type": "markdown",
      "metadata": {
        "id": "Y6yJpgeq7IwO"
      },
      "source": [
        "Named entity recognition (NER) is likely the first step toward information extraction. \n",
        "\n",
        "It seeks to locate and classify named entities in text into predefined categories such as the names of people, organizations, locations, expressions of time, numbers, percentages, etc."
      ]
    },
    {
      "cell_type": "markdown",
      "metadata": {
        "id": "H0DACM8xtLbY"
      },
      "source": [
        "## **NER : Pretrained**"
      ]
    },
    {
      "cell_type": "code",
      "metadata": {
        "id": "DR4tmbPTyMnV"
      },
      "source": [
        "import spacy\n",
        "from spacy import displacy\n",
        "nlp = spacy.load('en')"
      ],
      "execution_count": null,
      "outputs": []
    },
    {
      "cell_type": "markdown",
      "metadata": {
        "id": "jfY0o7plkPJ1"
      },
      "source": [
        "**nlp = spacy.load('en') :**, where load( ) is used to load the model, and 'en' provides the name/unicode of the model to load, in this case, English. \n",
        "\n",
        "**sent :** includes the sentence that was passed in order to extract identified entities.\n",
        "\n",
        "**sent.ents :**  The ents property in this case includes a tuple of all the entities recognised by our model.\n",
        "\n",
        "**word.label_ :** holds the label(PERSON / GPE / DATE) assigned to that entity by the model.\n",
        "\n",
        "**word.text :** contains entities like (MS Dhoni, 2007)"
      ]
    },
    {
      "cell_type": "code",
      "metadata": {
        "colab": {
          "base_uri": "https://localhost:8080/"
        },
        "id": "ZfxvIxq0rGTc",
        "outputId": "8334f402-e198-420b-c6e8-0268e800bdfb"
      },
      "source": [
        "sent= nlp(\"Mahendra Singh Dhoni (born 7 July 1981), commonly known as MS Dhoni, is international cricketer who captained the Indian national team in limited-overs formats from 2007 to 2016 and in Test cricket from 2008 to 2014. Under his captaincy, India won the 2007 ICC World Twenty20, the 2010 and 2016 Asia Cups, the 2011 ICC Cricket World Cup and the 2013 ICC Champions Trophy. A right-handed middle-order batsman and wicketkeeper, Dhoni is one of the highest run scorers in One Day Internationals (ODIs) with more than 10,000 runs scored and considered an effective finisher in limited-overs formats. He is also regarded by some as one of the best wicketkeepers in modern limited-overs international cricket. He made his ODI debut in December 2004 against Bangladesh and played his first Test a year later against Sri Lanka. Dhoni has been the recipient of many awards, including the ICC ODI Player of the Year award in 2008 and 2009 (the first player to win the award twice), the Rajiv Gandhi Khel Ratna award in 2007, the Padma Shri, India's fourth highest civilian honor, in 2009 and the Padma Bhushan, India's third highest civilian honor, in 2018.He was named as the captain of the ICC World Test XI in 2009, 2010 and 2013. He has also been selected a record 8 times in ICC World ODI XI teams, 5 times as captain. The Indian Territorial Army conferred the honorary rank of Lieutenant Colonel to Dhoni on 1 November 2011. He is the second Indian cricketer after Kapil Dev to receive this honor.\")\n",
        "\n",
        "\n",
        "for word in sent.ents:\n",
        "  print(word.text,word.label_)"
      ],
      "execution_count": null,
      "outputs": [
        {
          "output_type": "stream",
          "name": "stdout",
          "text": [
            "Mahendra Singh Dhoni PERSON\n",
            "7 July 1981 DATE\n",
            "MS Dhoni PERSON\n",
            "Indian NORP\n",
            "2007 DATE\n",
            "2016 DATE\n",
            "2008 DATE\n",
            "2014 DATE\n",
            "India GPE\n",
            "2007 DATE\n",
            "ICC World ORG\n",
            "Twenty20 GPE\n",
            "2010 DATE\n",
            "2016 DATE\n",
            "Asia Cups WORK_OF_ART\n",
            "2011 CARDINAL\n",
            "ICC Cricket World Cup EVENT\n",
            "2013 CARDINAL\n",
            "ICC Champions Trophy EVENT\n",
            "Dhoni PERSON\n",
            "one CARDINAL\n",
            "One Day DATE\n",
            "more than 10,000 CARDINAL\n",
            "some as one CARDINAL\n",
            "ODI ORG\n",
            "December 2004 DATE\n",
            "Bangladesh ORG\n",
            "first ORDINAL\n",
            "a year later DATE\n",
            "Sri Lanka GPE\n",
            "Dhoni PERSON\n",
            "2008 DATE\n",
            "2009 DATE\n",
            "first ORDINAL\n",
            "Gandhi Khel Ratna PERSON\n",
            "2007 DATE\n",
            "India GPE\n",
            "fourth ORDINAL\n",
            "2009 DATE\n",
            "the Padma Bhushan PRODUCT\n",
            "India GPE\n",
            "third ORDINAL\n",
            "2018.He CARDINAL\n",
            "the ICC World Test XI ORG\n",
            "2009 DATE\n",
            "2010 DATE\n",
            "2013 DATE\n",
            "8 CARDINAL\n",
            "ICC World ODI XI ORG\n",
            "5 CARDINAL\n",
            "The Indian Territorial Army ORG\n",
            "Dhoni PERSON\n",
            "1 November 2011 DATE\n",
            "second ORDINAL\n",
            "Indian NORP\n",
            "Kapil Dev PERSON\n"
          ]
        }
      ]
    },
    {
      "cell_type": "code",
      "metadata": {
        "colab": {
          "base_uri": "https://localhost:8080/",
          "height": 381
        },
        "id": "2pTu50VYrnoA",
        "outputId": "7e3f83ff-8532-458d-a6aa-62f49ffcbe26"
      },
      "source": [
        "displacy.render(sent ,style='ent',jupyter=True)"
      ],
      "execution_count": null,
      "outputs": [
        {
          "output_type": "display_data",
          "data": {
            "text/html": [
              "<span class=\"tex2jax_ignore\"><div class=\"entities\" style=\"line-height: 2.5; direction: ltr\">\n",
              "<mark class=\"entity\" style=\"background: #aa9cfc; padding: 0.45em 0.6em; margin: 0 0.25em; line-height: 1; border-radius: 0.35em;\">\n",
              "    Mahendra Singh Dhoni\n",
              "    <span style=\"font-size: 0.8em; font-weight: bold; line-height: 1; border-radius: 0.35em; text-transform: uppercase; vertical-align: middle; margin-left: 0.5rem\">PERSON</span>\n",
              "</mark>\n",
              " (born \n",
              "<mark class=\"entity\" style=\"background: #bfe1d9; padding: 0.45em 0.6em; margin: 0 0.25em; line-height: 1; border-radius: 0.35em;\">\n",
              "    7 July 1981\n",
              "    <span style=\"font-size: 0.8em; font-weight: bold; line-height: 1; border-radius: 0.35em; text-transform: uppercase; vertical-align: middle; margin-left: 0.5rem\">DATE</span>\n",
              "</mark>\n",
              "), commonly known as \n",
              "<mark class=\"entity\" style=\"background: #aa9cfc; padding: 0.45em 0.6em; margin: 0 0.25em; line-height: 1; border-radius: 0.35em;\">\n",
              "    MS Dhoni\n",
              "    <span style=\"font-size: 0.8em; font-weight: bold; line-height: 1; border-radius: 0.35em; text-transform: uppercase; vertical-align: middle; margin-left: 0.5rem\">PERSON</span>\n",
              "</mark>\n",
              ", is international cricketer who captained the \n",
              "<mark class=\"entity\" style=\"background: #c887fb; padding: 0.45em 0.6em; margin: 0 0.25em; line-height: 1; border-radius: 0.35em;\">\n",
              "    Indian\n",
              "    <span style=\"font-size: 0.8em; font-weight: bold; line-height: 1; border-radius: 0.35em; text-transform: uppercase; vertical-align: middle; margin-left: 0.5rem\">NORP</span>\n",
              "</mark>\n",
              " national team in limited-overs formats from \n",
              "<mark class=\"entity\" style=\"background: #bfe1d9; padding: 0.45em 0.6em; margin: 0 0.25em; line-height: 1; border-radius: 0.35em;\">\n",
              "    2007\n",
              "    <span style=\"font-size: 0.8em; font-weight: bold; line-height: 1; border-radius: 0.35em; text-transform: uppercase; vertical-align: middle; margin-left: 0.5rem\">DATE</span>\n",
              "</mark>\n",
              " to \n",
              "<mark class=\"entity\" style=\"background: #bfe1d9; padding: 0.45em 0.6em; margin: 0 0.25em; line-height: 1; border-radius: 0.35em;\">\n",
              "    2016\n",
              "    <span style=\"font-size: 0.8em; font-weight: bold; line-height: 1; border-radius: 0.35em; text-transform: uppercase; vertical-align: middle; margin-left: 0.5rem\">DATE</span>\n",
              "</mark>\n",
              " and in Test cricket from \n",
              "<mark class=\"entity\" style=\"background: #bfe1d9; padding: 0.45em 0.6em; margin: 0 0.25em; line-height: 1; border-radius: 0.35em;\">\n",
              "    2008\n",
              "    <span style=\"font-size: 0.8em; font-weight: bold; line-height: 1; border-radius: 0.35em; text-transform: uppercase; vertical-align: middle; margin-left: 0.5rem\">DATE</span>\n",
              "</mark>\n",
              " to \n",
              "<mark class=\"entity\" style=\"background: #bfe1d9; padding: 0.45em 0.6em; margin: 0 0.25em; line-height: 1; border-radius: 0.35em;\">\n",
              "    2014\n",
              "    <span style=\"font-size: 0.8em; font-weight: bold; line-height: 1; border-radius: 0.35em; text-transform: uppercase; vertical-align: middle; margin-left: 0.5rem\">DATE</span>\n",
              "</mark>\n",
              ". Under his captaincy, \n",
              "<mark class=\"entity\" style=\"background: #feca74; padding: 0.45em 0.6em; margin: 0 0.25em; line-height: 1; border-radius: 0.35em;\">\n",
              "    India\n",
              "    <span style=\"font-size: 0.8em; font-weight: bold; line-height: 1; border-radius: 0.35em; text-transform: uppercase; vertical-align: middle; margin-left: 0.5rem\">GPE</span>\n",
              "</mark>\n",
              " won the \n",
              "<mark class=\"entity\" style=\"background: #bfe1d9; padding: 0.45em 0.6em; margin: 0 0.25em; line-height: 1; border-radius: 0.35em;\">\n",
              "    2007\n",
              "    <span style=\"font-size: 0.8em; font-weight: bold; line-height: 1; border-radius: 0.35em; text-transform: uppercase; vertical-align: middle; margin-left: 0.5rem\">DATE</span>\n",
              "</mark>\n",
              " \n",
              "<mark class=\"entity\" style=\"background: #7aecec; padding: 0.45em 0.6em; margin: 0 0.25em; line-height: 1; border-radius: 0.35em;\">\n",
              "    ICC World\n",
              "    <span style=\"font-size: 0.8em; font-weight: bold; line-height: 1; border-radius: 0.35em; text-transform: uppercase; vertical-align: middle; margin-left: 0.5rem\">ORG</span>\n",
              "</mark>\n",
              " \n",
              "<mark class=\"entity\" style=\"background: #feca74; padding: 0.45em 0.6em; margin: 0 0.25em; line-height: 1; border-radius: 0.35em;\">\n",
              "    Twenty20\n",
              "    <span style=\"font-size: 0.8em; font-weight: bold; line-height: 1; border-radius: 0.35em; text-transform: uppercase; vertical-align: middle; margin-left: 0.5rem\">GPE</span>\n",
              "</mark>\n",
              ", the \n",
              "<mark class=\"entity\" style=\"background: #bfe1d9; padding: 0.45em 0.6em; margin: 0 0.25em; line-height: 1; border-radius: 0.35em;\">\n",
              "    2010\n",
              "    <span style=\"font-size: 0.8em; font-weight: bold; line-height: 1; border-radius: 0.35em; text-transform: uppercase; vertical-align: middle; margin-left: 0.5rem\">DATE</span>\n",
              "</mark>\n",
              " and \n",
              "<mark class=\"entity\" style=\"background: #bfe1d9; padding: 0.45em 0.6em; margin: 0 0.25em; line-height: 1; border-radius: 0.35em;\">\n",
              "    2016\n",
              "    <span style=\"font-size: 0.8em; font-weight: bold; line-height: 1; border-radius: 0.35em; text-transform: uppercase; vertical-align: middle; margin-left: 0.5rem\">DATE</span>\n",
              "</mark>\n",
              " \n",
              "<mark class=\"entity\" style=\"background: #f0d0ff; padding: 0.45em 0.6em; margin: 0 0.25em; line-height: 1; border-radius: 0.35em;\">\n",
              "    Asia Cups\n",
              "    <span style=\"font-size: 0.8em; font-weight: bold; line-height: 1; border-radius: 0.35em; text-transform: uppercase; vertical-align: middle; margin-left: 0.5rem\">WORK_OF_ART</span>\n",
              "</mark>\n",
              ", the \n",
              "<mark class=\"entity\" style=\"background: #e4e7d2; padding: 0.45em 0.6em; margin: 0 0.25em; line-height: 1; border-radius: 0.35em;\">\n",
              "    2011\n",
              "    <span style=\"font-size: 0.8em; font-weight: bold; line-height: 1; border-radius: 0.35em; text-transform: uppercase; vertical-align: middle; margin-left: 0.5rem\">CARDINAL</span>\n",
              "</mark>\n",
              " \n",
              "<mark class=\"entity\" style=\"background: #ffeb80; padding: 0.45em 0.6em; margin: 0 0.25em; line-height: 1; border-radius: 0.35em;\">\n",
              "    ICC Cricket World Cup\n",
              "    <span style=\"font-size: 0.8em; font-weight: bold; line-height: 1; border-radius: 0.35em; text-transform: uppercase; vertical-align: middle; margin-left: 0.5rem\">EVENT</span>\n",
              "</mark>\n",
              " and the \n",
              "<mark class=\"entity\" style=\"background: #e4e7d2; padding: 0.45em 0.6em; margin: 0 0.25em; line-height: 1; border-radius: 0.35em;\">\n",
              "    2013\n",
              "    <span style=\"font-size: 0.8em; font-weight: bold; line-height: 1; border-radius: 0.35em; text-transform: uppercase; vertical-align: middle; margin-left: 0.5rem\">CARDINAL</span>\n",
              "</mark>\n",
              " \n",
              "<mark class=\"entity\" style=\"background: #ffeb80; padding: 0.45em 0.6em; margin: 0 0.25em; line-height: 1; border-radius: 0.35em;\">\n",
              "    ICC Champions Trophy\n",
              "    <span style=\"font-size: 0.8em; font-weight: bold; line-height: 1; border-radius: 0.35em; text-transform: uppercase; vertical-align: middle; margin-left: 0.5rem\">EVENT</span>\n",
              "</mark>\n",
              ". A right-handed middle-order batsman and wicketkeeper, \n",
              "<mark class=\"entity\" style=\"background: #aa9cfc; padding: 0.45em 0.6em; margin: 0 0.25em; line-height: 1; border-radius: 0.35em;\">\n",
              "    Dhoni\n",
              "    <span style=\"font-size: 0.8em; font-weight: bold; line-height: 1; border-radius: 0.35em; text-transform: uppercase; vertical-align: middle; margin-left: 0.5rem\">PERSON</span>\n",
              "</mark>\n",
              " is \n",
              "<mark class=\"entity\" style=\"background: #e4e7d2; padding: 0.45em 0.6em; margin: 0 0.25em; line-height: 1; border-radius: 0.35em;\">\n",
              "    one\n",
              "    <span style=\"font-size: 0.8em; font-weight: bold; line-height: 1; border-radius: 0.35em; text-transform: uppercase; vertical-align: middle; margin-left: 0.5rem\">CARDINAL</span>\n",
              "</mark>\n",
              " of the highest run scorers in \n",
              "<mark class=\"entity\" style=\"background: #bfe1d9; padding: 0.45em 0.6em; margin: 0 0.25em; line-height: 1; border-radius: 0.35em;\">\n",
              "    One Day\n",
              "    <span style=\"font-size: 0.8em; font-weight: bold; line-height: 1; border-radius: 0.35em; text-transform: uppercase; vertical-align: middle; margin-left: 0.5rem\">DATE</span>\n",
              "</mark>\n",
              " Internationals (ODIs) with \n",
              "<mark class=\"entity\" style=\"background: #e4e7d2; padding: 0.45em 0.6em; margin: 0 0.25em; line-height: 1; border-radius: 0.35em;\">\n",
              "    more than 10,000\n",
              "    <span style=\"font-size: 0.8em; font-weight: bold; line-height: 1; border-radius: 0.35em; text-transform: uppercase; vertical-align: middle; margin-left: 0.5rem\">CARDINAL</span>\n",
              "</mark>\n",
              " runs scored and considered an effective finisher in limited-overs formats. He is also regarded by \n",
              "<mark class=\"entity\" style=\"background: #e4e7d2; padding: 0.45em 0.6em; margin: 0 0.25em; line-height: 1; border-radius: 0.35em;\">\n",
              "    some as one\n",
              "    <span style=\"font-size: 0.8em; font-weight: bold; line-height: 1; border-radius: 0.35em; text-transform: uppercase; vertical-align: middle; margin-left: 0.5rem\">CARDINAL</span>\n",
              "</mark>\n",
              " of the best wicketkeepers in modern limited-overs international cricket. He made his \n",
              "<mark class=\"entity\" style=\"background: #7aecec; padding: 0.45em 0.6em; margin: 0 0.25em; line-height: 1; border-radius: 0.35em;\">\n",
              "    ODI\n",
              "    <span style=\"font-size: 0.8em; font-weight: bold; line-height: 1; border-radius: 0.35em; text-transform: uppercase; vertical-align: middle; margin-left: 0.5rem\">ORG</span>\n",
              "</mark>\n",
              " debut in \n",
              "<mark class=\"entity\" style=\"background: #bfe1d9; padding: 0.45em 0.6em; margin: 0 0.25em; line-height: 1; border-radius: 0.35em;\">\n",
              "    December 2004\n",
              "    <span style=\"font-size: 0.8em; font-weight: bold; line-height: 1; border-radius: 0.35em; text-transform: uppercase; vertical-align: middle; margin-left: 0.5rem\">DATE</span>\n",
              "</mark>\n",
              " against \n",
              "<mark class=\"entity\" style=\"background: #7aecec; padding: 0.45em 0.6em; margin: 0 0.25em; line-height: 1; border-radius: 0.35em;\">\n",
              "    Bangladesh\n",
              "    <span style=\"font-size: 0.8em; font-weight: bold; line-height: 1; border-radius: 0.35em; text-transform: uppercase; vertical-align: middle; margin-left: 0.5rem\">ORG</span>\n",
              "</mark>\n",
              " and played his \n",
              "<mark class=\"entity\" style=\"background: #e4e7d2; padding: 0.45em 0.6em; margin: 0 0.25em; line-height: 1; border-radius: 0.35em;\">\n",
              "    first\n",
              "    <span style=\"font-size: 0.8em; font-weight: bold; line-height: 1; border-radius: 0.35em; text-transform: uppercase; vertical-align: middle; margin-left: 0.5rem\">ORDINAL</span>\n",
              "</mark>\n",
              " Test \n",
              "<mark class=\"entity\" style=\"background: #bfe1d9; padding: 0.45em 0.6em; margin: 0 0.25em; line-height: 1; border-radius: 0.35em;\">\n",
              "    a year later\n",
              "    <span style=\"font-size: 0.8em; font-weight: bold; line-height: 1; border-radius: 0.35em; text-transform: uppercase; vertical-align: middle; margin-left: 0.5rem\">DATE</span>\n",
              "</mark>\n",
              " against \n",
              "<mark class=\"entity\" style=\"background: #feca74; padding: 0.45em 0.6em; margin: 0 0.25em; line-height: 1; border-radius: 0.35em;\">\n",
              "    Sri Lanka\n",
              "    <span style=\"font-size: 0.8em; font-weight: bold; line-height: 1; border-radius: 0.35em; text-transform: uppercase; vertical-align: middle; margin-left: 0.5rem\">GPE</span>\n",
              "</mark>\n",
              ". \n",
              "<mark class=\"entity\" style=\"background: #aa9cfc; padding: 0.45em 0.6em; margin: 0 0.25em; line-height: 1; border-radius: 0.35em;\">\n",
              "    Dhoni\n",
              "    <span style=\"font-size: 0.8em; font-weight: bold; line-height: 1; border-radius: 0.35em; text-transform: uppercase; vertical-align: middle; margin-left: 0.5rem\">PERSON</span>\n",
              "</mark>\n",
              " has been the recipient of many awards, including the ICC ODI Player of the Year award in \n",
              "<mark class=\"entity\" style=\"background: #bfe1d9; padding: 0.45em 0.6em; margin: 0 0.25em; line-height: 1; border-radius: 0.35em;\">\n",
              "    2008\n",
              "    <span style=\"font-size: 0.8em; font-weight: bold; line-height: 1; border-radius: 0.35em; text-transform: uppercase; vertical-align: middle; margin-left: 0.5rem\">DATE</span>\n",
              "</mark>\n",
              " and \n",
              "<mark class=\"entity\" style=\"background: #bfe1d9; padding: 0.45em 0.6em; margin: 0 0.25em; line-height: 1; border-radius: 0.35em;\">\n",
              "    2009\n",
              "    <span style=\"font-size: 0.8em; font-weight: bold; line-height: 1; border-radius: 0.35em; text-transform: uppercase; vertical-align: middle; margin-left: 0.5rem\">DATE</span>\n",
              "</mark>\n",
              " (the \n",
              "<mark class=\"entity\" style=\"background: #e4e7d2; padding: 0.45em 0.6em; margin: 0 0.25em; line-height: 1; border-radius: 0.35em;\">\n",
              "    first\n",
              "    <span style=\"font-size: 0.8em; font-weight: bold; line-height: 1; border-radius: 0.35em; text-transform: uppercase; vertical-align: middle; margin-left: 0.5rem\">ORDINAL</span>\n",
              "</mark>\n",
              " player to win the award twice), the Rajiv \n",
              "<mark class=\"entity\" style=\"background: #aa9cfc; padding: 0.45em 0.6em; margin: 0 0.25em; line-height: 1; border-radius: 0.35em;\">\n",
              "    Gandhi Khel Ratna\n",
              "    <span style=\"font-size: 0.8em; font-weight: bold; line-height: 1; border-radius: 0.35em; text-transform: uppercase; vertical-align: middle; margin-left: 0.5rem\">PERSON</span>\n",
              "</mark>\n",
              " award in \n",
              "<mark class=\"entity\" style=\"background: #bfe1d9; padding: 0.45em 0.6em; margin: 0 0.25em; line-height: 1; border-radius: 0.35em;\">\n",
              "    2007\n",
              "    <span style=\"font-size: 0.8em; font-weight: bold; line-height: 1; border-radius: 0.35em; text-transform: uppercase; vertical-align: middle; margin-left: 0.5rem\">DATE</span>\n",
              "</mark>\n",
              ", the Padma Shri, \n",
              "<mark class=\"entity\" style=\"background: #feca74; padding: 0.45em 0.6em; margin: 0 0.25em; line-height: 1; border-radius: 0.35em;\">\n",
              "    India\n",
              "    <span style=\"font-size: 0.8em; font-weight: bold; line-height: 1; border-radius: 0.35em; text-transform: uppercase; vertical-align: middle; margin-left: 0.5rem\">GPE</span>\n",
              "</mark>\n",
              "'s \n",
              "<mark class=\"entity\" style=\"background: #e4e7d2; padding: 0.45em 0.6em; margin: 0 0.25em; line-height: 1; border-radius: 0.35em;\">\n",
              "    fourth\n",
              "    <span style=\"font-size: 0.8em; font-weight: bold; line-height: 1; border-radius: 0.35em; text-transform: uppercase; vertical-align: middle; margin-left: 0.5rem\">ORDINAL</span>\n",
              "</mark>\n",
              " highest civilian honor, in \n",
              "<mark class=\"entity\" style=\"background: #bfe1d9; padding: 0.45em 0.6em; margin: 0 0.25em; line-height: 1; border-radius: 0.35em;\">\n",
              "    2009\n",
              "    <span style=\"font-size: 0.8em; font-weight: bold; line-height: 1; border-radius: 0.35em; text-transform: uppercase; vertical-align: middle; margin-left: 0.5rem\">DATE</span>\n",
              "</mark>\n",
              " and \n",
              "<mark class=\"entity\" style=\"background: #bfeeb7; padding: 0.45em 0.6em; margin: 0 0.25em; line-height: 1; border-radius: 0.35em;\">\n",
              "    the Padma Bhushan\n",
              "    <span style=\"font-size: 0.8em; font-weight: bold; line-height: 1; border-radius: 0.35em; text-transform: uppercase; vertical-align: middle; margin-left: 0.5rem\">PRODUCT</span>\n",
              "</mark>\n",
              ", \n",
              "<mark class=\"entity\" style=\"background: #feca74; padding: 0.45em 0.6em; margin: 0 0.25em; line-height: 1; border-radius: 0.35em;\">\n",
              "    India\n",
              "    <span style=\"font-size: 0.8em; font-weight: bold; line-height: 1; border-radius: 0.35em; text-transform: uppercase; vertical-align: middle; margin-left: 0.5rem\">GPE</span>\n",
              "</mark>\n",
              "'s \n",
              "<mark class=\"entity\" style=\"background: #e4e7d2; padding: 0.45em 0.6em; margin: 0 0.25em; line-height: 1; border-radius: 0.35em;\">\n",
              "    third\n",
              "    <span style=\"font-size: 0.8em; font-weight: bold; line-height: 1; border-radius: 0.35em; text-transform: uppercase; vertical-align: middle; margin-left: 0.5rem\">ORDINAL</span>\n",
              "</mark>\n",
              " highest civilian honor, in \n",
              "<mark class=\"entity\" style=\"background: #e4e7d2; padding: 0.45em 0.6em; margin: 0 0.25em; line-height: 1; border-radius: 0.35em;\">\n",
              "    2018.He\n",
              "    <span style=\"font-size: 0.8em; font-weight: bold; line-height: 1; border-radius: 0.35em; text-transform: uppercase; vertical-align: middle; margin-left: 0.5rem\">CARDINAL</span>\n",
              "</mark>\n",
              " was named as the captain of \n",
              "<mark class=\"entity\" style=\"background: #7aecec; padding: 0.45em 0.6em; margin: 0 0.25em; line-height: 1; border-radius: 0.35em;\">\n",
              "    the ICC World Test XI\n",
              "    <span style=\"font-size: 0.8em; font-weight: bold; line-height: 1; border-radius: 0.35em; text-transform: uppercase; vertical-align: middle; margin-left: 0.5rem\">ORG</span>\n",
              "</mark>\n",
              " in \n",
              "<mark class=\"entity\" style=\"background: #bfe1d9; padding: 0.45em 0.6em; margin: 0 0.25em; line-height: 1; border-radius: 0.35em;\">\n",
              "    2009\n",
              "    <span style=\"font-size: 0.8em; font-weight: bold; line-height: 1; border-radius: 0.35em; text-transform: uppercase; vertical-align: middle; margin-left: 0.5rem\">DATE</span>\n",
              "</mark>\n",
              ", \n",
              "<mark class=\"entity\" style=\"background: #bfe1d9; padding: 0.45em 0.6em; margin: 0 0.25em; line-height: 1; border-radius: 0.35em;\">\n",
              "    2010\n",
              "    <span style=\"font-size: 0.8em; font-weight: bold; line-height: 1; border-radius: 0.35em; text-transform: uppercase; vertical-align: middle; margin-left: 0.5rem\">DATE</span>\n",
              "</mark>\n",
              " and \n",
              "<mark class=\"entity\" style=\"background: #bfe1d9; padding: 0.45em 0.6em; margin: 0 0.25em; line-height: 1; border-radius: 0.35em;\">\n",
              "    2013\n",
              "    <span style=\"font-size: 0.8em; font-weight: bold; line-height: 1; border-radius: 0.35em; text-transform: uppercase; vertical-align: middle; margin-left: 0.5rem\">DATE</span>\n",
              "</mark>\n",
              ". He has also been selected a record \n",
              "<mark class=\"entity\" style=\"background: #e4e7d2; padding: 0.45em 0.6em; margin: 0 0.25em; line-height: 1; border-radius: 0.35em;\">\n",
              "    8\n",
              "    <span style=\"font-size: 0.8em; font-weight: bold; line-height: 1; border-radius: 0.35em; text-transform: uppercase; vertical-align: middle; margin-left: 0.5rem\">CARDINAL</span>\n",
              "</mark>\n",
              " times in \n",
              "<mark class=\"entity\" style=\"background: #7aecec; padding: 0.45em 0.6em; margin: 0 0.25em; line-height: 1; border-radius: 0.35em;\">\n",
              "    ICC World ODI XI\n",
              "    <span style=\"font-size: 0.8em; font-weight: bold; line-height: 1; border-radius: 0.35em; text-transform: uppercase; vertical-align: middle; margin-left: 0.5rem\">ORG</span>\n",
              "</mark>\n",
              " teams, \n",
              "<mark class=\"entity\" style=\"background: #e4e7d2; padding: 0.45em 0.6em; margin: 0 0.25em; line-height: 1; border-radius: 0.35em;\">\n",
              "    5\n",
              "    <span style=\"font-size: 0.8em; font-weight: bold; line-height: 1; border-radius: 0.35em; text-transform: uppercase; vertical-align: middle; margin-left: 0.5rem\">CARDINAL</span>\n",
              "</mark>\n",
              " times as captain. \n",
              "<mark class=\"entity\" style=\"background: #7aecec; padding: 0.45em 0.6em; margin: 0 0.25em; line-height: 1; border-radius: 0.35em;\">\n",
              "    The Indian Territorial Army\n",
              "    <span style=\"font-size: 0.8em; font-weight: bold; line-height: 1; border-radius: 0.35em; text-transform: uppercase; vertical-align: middle; margin-left: 0.5rem\">ORG</span>\n",
              "</mark>\n",
              " conferred the honorary rank of Lieutenant Colonel to \n",
              "<mark class=\"entity\" style=\"background: #aa9cfc; padding: 0.45em 0.6em; margin: 0 0.25em; line-height: 1; border-radius: 0.35em;\">\n",
              "    Dhoni\n",
              "    <span style=\"font-size: 0.8em; font-weight: bold; line-height: 1; border-radius: 0.35em; text-transform: uppercase; vertical-align: middle; margin-left: 0.5rem\">PERSON</span>\n",
              "</mark>\n",
              " on \n",
              "<mark class=\"entity\" style=\"background: #bfe1d9; padding: 0.45em 0.6em; margin: 0 0.25em; line-height: 1; border-radius: 0.35em;\">\n",
              "    1 November 2011\n",
              "    <span style=\"font-size: 0.8em; font-weight: bold; line-height: 1; border-radius: 0.35em; text-transform: uppercase; vertical-align: middle; margin-left: 0.5rem\">DATE</span>\n",
              "</mark>\n",
              ". He is the \n",
              "<mark class=\"entity\" style=\"background: #e4e7d2; padding: 0.45em 0.6em; margin: 0 0.25em; line-height: 1; border-radius: 0.35em;\">\n",
              "    second\n",
              "    <span style=\"font-size: 0.8em; font-weight: bold; line-height: 1; border-radius: 0.35em; text-transform: uppercase; vertical-align: middle; margin-left: 0.5rem\">ORDINAL</span>\n",
              "</mark>\n",
              " \n",
              "<mark class=\"entity\" style=\"background: #c887fb; padding: 0.45em 0.6em; margin: 0 0.25em; line-height: 1; border-radius: 0.35em;\">\n",
              "    Indian\n",
              "    <span style=\"font-size: 0.8em; font-weight: bold; line-height: 1; border-radius: 0.35em; text-transform: uppercase; vertical-align: middle; margin-left: 0.5rem\">NORP</span>\n",
              "</mark>\n",
              " cricketer after \n",
              "<mark class=\"entity\" style=\"background: #aa9cfc; padding: 0.45em 0.6em; margin: 0 0.25em; line-height: 1; border-radius: 0.35em;\">\n",
              "    Kapil Dev\n",
              "    <span style=\"font-size: 0.8em; font-weight: bold; line-height: 1; border-radius: 0.35em; text-transform: uppercase; vertical-align: middle; margin-left: 0.5rem\">PERSON</span>\n",
              "</mark>\n",
              " to receive this honor.</div></span>"
            ],
            "text/plain": [
              "<IPython.core.display.HTML object>"
            ]
          },
          "metadata": {}
        }
      ]
    },
    {
      "cell_type": "code",
      "metadata": {
        "colab": {
          "base_uri": "https://localhost:8080/",
          "height": 35
        },
        "id": "qsOhpe0ek4XX",
        "outputId": "12390d54-b565-47f6-dc2e-e29d1eab04ac"
      },
      "source": [
        "spacy.explain('ORG')"
      ],
      "execution_count": null,
      "outputs": [
        {
          "output_type": "execute_result",
          "data": {
            "application/vnd.google.colaboratory.intrinsic+json": {
              "type": "string"
            },
            "text/plain": [
              "'Companies, agencies, institutions, etc.'"
            ]
          },
          "metadata": {},
          "execution_count": 8
        }
      ]
    },
    {
      "cell_type": "code",
      "metadata": {
        "id": "HGnquPSYl_ef"
      },
      "source": [
        ""
      ],
      "execution_count": null,
      "outputs": []
    },
    {
      "cell_type": "markdown",
      "metadata": {
        "id": "MMFR8cgGxp6p"
      },
      "source": [
        "## **NER :  Custom**"
      ]
    },
    {
      "cell_type": "code",
      "metadata": {
        "colab": {
          "base_uri": "https://localhost:8080/"
        },
        "id": "CZT8Nwl5yZ0q",
        "outputId": "e4d4f4af-2acf-4e58-d0f7-5d52711319de"
      },
      "source": [
        "!python -m spacy info"
      ],
      "execution_count": null,
      "outputs": [
        {
          "output_type": "stream",
          "name": "stdout",
          "text": [
            "\u001b[1m\n",
            "============================== Info about spaCy ==============================\u001b[0m\n",
            "\n",
            "spaCy version    2.2.4                         \n",
            "Location         /usr/local/lib/python3.7/dist-packages/spacy\n",
            "Platform         Linux-5.4.104+-x86_64-with-Ubuntu-18.04-bionic\n",
            "Python version   3.7.12                        \n",
            "Models           en                            \n",
            "\n"
          ]
        }
      ]
    },
    {
      "cell_type": "code",
      "metadata": {
        "id": "GhvXiihm8Esq"
      },
      "source": [
        "import spacy\n",
        "import pickle\n",
        "import random"
      ],
      "execution_count": null,
      "outputs": []
    },
    {
      "cell_type": "code",
      "metadata": {
        "colab": {
          "base_uri": "https://localhost:8080/"
        },
        "id": "2dU7KCLo9cwh",
        "outputId": "b51edbff-4208-4262-dd01-f30c5377a00b"
      },
      "source": [
        "# one more example\n",
        "\n",
        "for ent in test(\"Apple is looking at buying U.K. startup for $1 billion\").ents:\n",
        "  print(f'{ent.label_.upper():{10}} - {ent.text}')"
      ],
      "execution_count": null,
      "outputs": [
        {
          "output_type": "stream",
          "name": "stdout",
          "text": [
            "ORG        - Apple\n",
            "GPE        - U.K.\n",
            "MONEY      - $1 billion\n"
          ]
        }
      ]
    },
    {
      "cell_type": "markdown",
      "metadata": {
        "id": "iXw1jCO3mUnE"
      },
      "source": [
        "We may utilize the explain method of spacy to find out what a named entity means."
      ]
    },
    {
      "cell_type": "code",
      "metadata": {
        "colab": {
          "base_uri": "https://localhost:8080/"
        },
        "id": "ZqL7qEmD9ha1",
        "outputId": "6f6068da-e6ba-4b9d-b934-6d4dedc3e3e4"
      },
      "source": [
        "print(f'PERSON - {spacy.explain(\"PERSON\")}')\n",
        "print(f'GPE    - {spacy.explain(\"GPE\")}')\n",
        "print(f'DATE   - {spacy.explain(\"DATE\")}')\n",
        "print(f'MONEY  - {spacy.explain(\"MONEY\")}')"
      ],
      "execution_count": null,
      "outputs": [
        {
          "output_type": "stream",
          "name": "stdout",
          "text": [
            "PERSON - People, including fictional\n",
            "GPE    - Countries, cities, states\n",
            "DATE   - Absolute or relative dates or periods\n",
            "MONEY  - Monetary values, including unit\n"
          ]
        }
      ]
    },
    {
      "cell_type": "code",
      "metadata": {
        "id": "kY2Nbscw9jH4"
      },
      "source": [
        "import os\n",
        "for dirname, _, filenames in os.walk('/content/drive/MyDrive/Colab Notebooks/data/Alice Clark CV.pdf'):\n",
        "    for filename in filenames:\n",
        "        print(os.path.join(dirname, filename))"
      ],
      "execution_count": null,
      "outputs": []
    },
    {
      "cell_type": "code",
      "metadata": {
        "id": "66TQh7oi-Lob"
      },
      "source": [
        "import os\n",
        "for dirname, _, filenames in os.walk('/content/drive/MyDrive/Colab Notebooks/data/train_data.pkl'):\n",
        "    for filename in filenames:\n",
        "        print(os.path.join(dirname, filename))"
      ],
      "execution_count": null,
      "outputs": []
    },
    {
      "cell_type": "markdown",
      "metadata": {
        "id": "70rw-eSkoKnd"
      },
      "source": [
        "Because our résumé is in pdf format, we will extract data from it using PyMuPDF. PyPDF2 is another option."
      ]
    },
    {
      "cell_type": "code",
      "metadata": {
        "colab": {
          "base_uri": "https://localhost:8080/"
        },
        "id": "j9BSPskc-RCh",
        "outputId": "baa894cf-18d8-40a0-ea2c-736c0ec5557f"
      },
      "source": [
        "pip install PyMuPDF"
      ],
      "execution_count": null,
      "outputs": [
        {
          "output_type": "stream",
          "name": "stdout",
          "text": [
            "Collecting PyMuPDF\n",
            "  Downloading PyMuPDF-1.18.19-cp37-cp37m-manylinux_2_12_x86_64.manylinux2010_x86_64.whl (6.4 MB)\n",
            "\u001b[K     |████████████████████████████████| 6.4 MB 29.9 MB/s \n",
            "\u001b[?25hInstalling collected packages: PyMuPDF\n",
            "Successfully installed PyMuPDF-1.18.19\n"
          ]
        }
      ]
    },
    {
      "cell_type": "code",
      "metadata": {
        "colab": {
          "base_uri": "https://localhost:8080/"
        },
        "id": "5bYE0nSx-XOA",
        "outputId": "9cbf5a3e-318f-4e4d-b8d1-a18d933ed8b4"
      },
      "source": [
        "import sys,fitz\n",
        "fname = '/content/drive/MyDrive/Colab Notebooks/data/Alice Clark CV.pdf'\n",
        "doc= fitz.open(fname)\n",
        "alice_cv=\"\"\n",
        "for page in doc:\n",
        "  alice_cv = alice_cv + str(page.getText())\n",
        "\n",
        "print(alice_cv)\n",
        "\n",
        "## We extracted data from the pdf file using PyMuPDF and saved it in the alice_cv variable."
      ],
      "execution_count": null,
      "outputs": [
        {
          "output_type": "stream",
          "name": "stdout",
          "text": [
            "Alice Clark \n",
            "AI / Machine Learning \n",
            " \n",
            "Delhi, India Email me on Indeed \n",
            "• \n",
            "20+ years of experience in data handling, design, and development \n",
            "• \n",
            "Data Warehouse: Data analysis, star/snow flake scema data modelling and design specific to \n",
            "data warehousing and business intelligence \n",
            "• \n",
            "Database: Experience in database designing, scalability, back-up and recovery, writing and \n",
            "optimizing SQL code and Stored Procedures, creating functions, views, triggers and indexes. \n",
            "Cloud platform: Worked on Microsoft Azure cloud services like Document DB, SQL Azure, \n",
            "Stream Analytics, Event hub, Power BI, Web Job, Web App, Power BI, Azure data lake \n",
            "analytics(U-SQL) \n",
            "Willing to relocate anywhere \n",
            " \n",
            "WORK EXPERIENCE \n",
            "Software Engineer \n",
            "Microsoft – Bangalore, Karnataka \n",
            "January 2000 to Present \n",
            "1. Microsoft Rewards Live dashboards: \n",
            "Description: - Microsoft rewards is loyalty program that rewards Users for browsing and shopping \n",
            "online. Microsoft Rewards members can earn points when searching with Bing, browsing with \n",
            "Microsoft Edge and making purchases at the Xbox Store, the Windows Store and the Microsoft \n",
            "Store. Plus, user can pick up bonus points for taking daily quizzes and tours on the Microsoft \n",
            "rewards website. Rewards live dashboards gives a live picture of usage world-wide and by \n",
            "markets like US, Canada, Australia, new user registration count, top/bottom performing rewards \n",
            "offers, orders stats and weekly trends of user activities, orders and new user registrations. the \n",
            "PBI tiles gets refreshed in different frequencies starting from 5 seconds to 30 minutes. \n",
            "Technology/Tools used \n",
            " \n",
            "EDUCATION \n",
            "Indian Institute of Technology – Mumbai \n",
            "2001 \n",
            " \n",
            "SKILLS \n",
            "Machine Learning, Natural Language Processing, and Big Data Handling \n",
            " \n",
            "ADDITIONAL INFORMATION \n",
            "Professional Skills \n",
            "• Excellent analytical, problem solving, communication, knowledge transfer and interpersonal \n",
            "skills with ability to interact with individuals at all the levels \n",
            "• Quick learner and maintains cordial relationship with project manager and team members and \n",
            "good performer both in team and independent job environments \n",
            "• Positive attitude towards superiors &amp; peers \n",
            "• Supervised junior developers throughout project lifecycle and provided technical assistance \n",
            "\n"
          ]
        }
      ]
    },
    {
      "cell_type": "code",
      "metadata": {
        "id": "bISQtlc4-d2J"
      },
      "source": [
        "# Well we can now run our test data through our pre-trained spacy model and see how well it worked.\n",
        "\n",
        "test = spacy.load('en')\n",
        "ts = test(\" \".join(alice_cv.split('\\n'))) # we have splitted our data with '\\n' and rejoined with space"
      ],
      "execution_count": null,
      "outputs": []
    },
    {
      "cell_type": "markdown",
      "metadata": {
        "id": "Ol7IMVe-o0Ea"
      },
      "source": [
        "**ts = test( )**, where we send the variable to test (the object of the spacy english model), which learns POS tags, NER, and other information and saves it in ts.\n",
        "\n",
        "All POS tags, NER, and so on are stored in this variable. We will just extract NER and personally check the result."
      ]
    },
    {
      "cell_type": "code",
      "metadata": {
        "colab": {
          "base_uri": "https://localhost:8080/"
        },
        "id": "diMjaWUW-iaL",
        "outputId": "f2908da5-0943-4962-e060-3e367395f198"
      },
      "source": [
        "# Here, we are only extracting all PERSON named entities.\n",
        "\n",
        "for ent in ts.ents:\n",
        "  if ent.label_.upper() == 'PERSON':\n",
        "    print(f'{ent.label_.upper():{10}} - {ent.text}')"
      ],
      "execution_count": null,
      "outputs": [
        {
          "output_type": "stream",
          "name": "stdout",
          "text": [
            "PERSON     - Alice Clark\n",
            "PERSON     - Stored Procedures\n",
            "PERSON     - Cloud\n",
            "PERSON     - Document DB\n",
            "PERSON     - Web Job\n",
            "PERSON     - Web App\n",
            "PERSON     - Bing\n"
          ]
        }
      ]
    },
    {
      "cell_type": "markdown",
      "metadata": {
        "id": "1b4hTbX2pnI9"
      },
      "source": [
        "Our pre-trained model performed poorly on test data. Only one name ('Alice Clark') was labelled correctly, while the others were labelled incorrectly.\n",
        "\n",
        "Below, except for 'MICROSOFT,' all ORG-named entities are incorrectly labelled."
      ]
    },
    {
      "cell_type": "code",
      "metadata": {
        "colab": {
          "base_uri": "https://localhost:8080/"
        },
        "id": "zgSlU8WQ-lXb",
        "outputId": "45f5ee4d-ae63-4079-b118-1acf0fee8e1f"
      },
      "source": [
        "# Here, we are only extracting all ORG named entities.\n",
        "\n",
        "for ent in ts.ents:\n",
        "  if ent.label_.upper() == 'ORG':\n",
        "    print(f'{ent.label_.upper():{10}} - {ent.text}')"
      ],
      "execution_count": null,
      "outputs": [
        {
          "output_type": "stream",
          "name": "stdout",
          "text": [
            "ORG        - AI / Machine Learning\n",
            "ORG        - star/snow flake scema\n",
            "ORG        - SQL\n",
            "ORG        - Microsoft Azure\n",
            "ORG        - SQL Azure\n",
            "ORG        - Stream Analytics\n",
            "ORG        - Power BI\n",
            "ORG        - Power BI\n",
            "ORG        - SQL\n",
            "ORG        - Microsoft\n",
            "ORG        - Microsoft\n",
            "ORG        - Microsoft\n",
            "ORG        - Microsoft\n",
            "ORG        - Microsoft Edge\n",
            "ORG        - Microsoft\n",
            "ORG        - Microsoft\n",
            "ORG        - PBI\n",
            "ORG        - Technology/Tools\n",
            "ORG        - Indian Institute of Technology\n",
            "ORG        - Big Data\n"
          ]
        }
      ]
    },
    {
      "cell_type": "markdown",
      "metadata": {
        "id": "h7DFugJvp5hP"
      },
      "source": [
        "### **Hence, in these situations it is better to use  CUSTOM-NER MODEL.**\n",
        "\n",
        "This is why we must first train our spacy model on manually labelled data and generate bespoke NER.\n",
        "\n",
        "Because we used resume data for testing, we must first train our spacy model on some manually labelled resume data. We obtained data for training purposes from the internet, but you may produce training data based on your needs."
      ]
    },
    {
      "cell_type": "code",
      "metadata": {
        "colab": {
          "base_uri": "https://localhost:8080/"
        },
        "id": "g4ft5eLx-nl0",
        "outputId": "bdccbe3e-cd50-4132-f085-672d91aeab3c"
      },
      "source": [
        "train_data = pickle.load(open('/content/drive/MyDrive/Colab Notebooks/data/train_data.pkl','rb'))\n",
        "print(f\"Training data consist of {len(train_data)} manually labelled resume's.\")"
      ],
      "execution_count": null,
      "outputs": [
        {
          "output_type": "stream",
          "name": "stdout",
          "text": [
            "Training data consist of 200 manually labelled resume's.\n"
          ]
        }
      ]
    },
    {
      "cell_type": "code",
      "metadata": {
        "colab": {
          "base_uri": "https://localhost:8080/"
        },
        "id": "JMXmHJht-vT-",
        "outputId": "03e749e0-db9e-4446-8266-ea9e62bff52c"
      },
      "source": [
        "# Checking format of one resume data\n",
        "\n",
        "train_data[100]"
      ],
      "execution_count": null,
      "outputs": [
        {
          "output_type": "execute_result",
          "data": {
            "text/plain": [
              "('Puneet Bhandari SAP SD lead - Microsoft IT  Pune, Maharashtra - Email me on Indeed: indeed.com/r/Puneet-Bhandari/c9002fa44d6760bd  Willing to relocate: Anywhere  WORK EXPERIENCE  SAP SD lead  Microsoft IT -  August 2010 to Present  Team Size: 8 Duration: Seven months  Scope: * Enhancement of Mexico invoicing process as per the current regulations * Requirement gathering from third party and client on new process * Responsible for implementing the changes in system  Area of Exposure: * Understand the AS-IS process and develop to- Be design document to meet the business and Government requirement * Requirement gathering for all SD process for client * Developed solution blueprint and Process Design Documents for OTC 3-way and 1-way invoice processes * Interacting with third party to gather requirements from their end * Creating functional specification and Gap analysis document for different country implementation with client * Design test scripts for functional unit testing (FUT), Integration system testing (IST) and User Acceptance Test (UAT)  Phase: Support Phase: Implementation \\\\ Enhancement Project: JCI Role: SAP SD lead Team Size: 15 Duration: Twelve months  Scope: * Communication with client leadership on various issues and efficiency improvement * Ticket handling for OTC track as L2 support lead * Responsible for change request across OTC and all business areas  Area of Exposure: * End to end order to cash cycles issues * Interface related issues with exposure to IDOCs * Change request handling and process improvement  https://www.indeed.com/r/Puneet-Bhandari/c9002fa44d6760bd?isid=rex-download&ikw=download-top&co=IN   * SPOC for client from offshore for communication, reporting and continuous improvement activities * Design test scripts for functional unit testing (FUT), Integration system testing (IST) and User Acceptance Test (UAT) for all changes for process and system improvements Achievements: * Spot Awards for exceptional contribution to project work * Award and appreciation from client at Global level for successful transition of new geographies to support global template  Phase: Implementation Project: Adient Role: SAP SD lead Team Size: 5 Duration: Five months  Scope: * Lead Optical archiving of all future, live and archived invoices for audit purpose * Harmonize invoice archiving process across all plants and SAP instances * Requirement and data gathering from all plants on legal aspects of invoice form structures and data of last 10 years  Area of Exposure: * Developed solution blueprint and Process Design Documents for OTC 3-way and 1-way invoice processes * Requirement gathering from all the plants legal department on the aspect of form structure * Data gathering of all changes across globe for data (customer, vendor, organizational) relative to the billing process in system * Creating functional specification and Gap analysis document for different country implementation with client * Design test scripts for unit testing (UT), Integration system testing (IST) and User Acceptance Test (UAT)  Phase: Implementation Project: JCI Role: Cutover Manager Team Size: 15 Duration: Nine months  Scope: * Legal entity Separation of asset share and shared sale plants from the core JCI group * Co-coordinating with multiple vendors on behalf of client for master data migration and IT activities Area of Exposure: * Defining scope of activities for the shared sale plants migration to new legal entity * Co-ordination with OTC, PTP, PTD and RTR streams for successful implementation of the objectives * Analyzing issues related to intercompany transactions occurred for asset share plants * Gathering client requirement on basis of legacy system and current need * Creating functional specification and Gap analysis documents * Reporting to IT head of the organization on the progress of the planned activities * Report analysis and finding functional solutions for the issues    * Hyper care support for multi SAP instance layout  Achievements: * Appreciations from the client on smooth and successful execution of the cutover involving multiple stakeholders  Phase: Implementation and Roll-out Project: Atlas CopCo Role: Master Data Lead and SD team member Team Size: 11 Duration: Thirty-three months  Scope: * Sales order management * Equipment creation in Order to cash cycle * Lead for master data migration * Conducting workshops along with client IT team for business user  Area of Exposure: * Conducting blue print workshops with client for requirement gathering in 6 countries * Developed solution blueprint and Process Design Documents for OTC * Roll out of the template solution to UK-NORDICS * Defining data flow for the sales order-billing document in system * Order to cash cycle activity management for data creation in ECC * Creating functional specification and Gap analysis document for different country implementation with client * Implementation and Configuration of different processes as per the client requirement in the area of SAP SD and CRM sales-ECC integration * Reporting - Reconciliation, pre validation, post validation * Involved as lead in cutover, go-live, hyper care phases of project for five countries in Europe  Achievements: * Awarded for Creating landscape for support phase along with top management team of the project * At onsite as equipment lead and awarded as valuable member by the client  Phase: Implementation Project: Agri Business Client Role: SD Team member Team Size: 25 Duration: Ten months  Scope: * Implementing end to end SAP SD scenario for MNC client * Creation of functional specification documents for various processes Area of Exposure: * Defining enterprise structure, shipping conditions, pricing procedure, etc. * Assignment of structure as per business need * Creation of BPP and functional specification documents * Master data Creation * Worked on DUET (SharePoint and SAP initiative)    * Handling team and driving it to achieve deliverables  Achievements: * Published various BOK (reusable artifacts) in Infosys Repository * Successfully completed on job internship on Sustainability study of Infosys Clients - Telstra, Cummins and Vodafone.  Phase: Implementation Project: COE Role: SD Team member Team Size: 6 Duration: Three months  Scope: * Configuring sales order management for SAP SD module for client * Testing preconfigured solution for internal team  Area of Exposure: * Implementation of sales order process with respect to specific SD (sales and Distribution) processes * Testing for SD module processes involving various pricing methodologies * Handling team and driving it to achieve deliverables Achievements: * Cleared domain certification in Retail category * Successfully completed Harvard Manage Mentor Certification in Customer Focus and Innovation Implementation by Harvard Business Publishing  Phase: Support Client: Microsoft IT Team Size: 15 Duration: Sixteen months  Scope: * Supporting complete Order to cash cycle for Microsoft Business * Analyzing, resolving and implementing issues or tickets  Area of Exposure: * Pricing unification management and analysis (stand-alone system for pricing) * Handling of Master Data (Customer data, customer information data, condition records, partner profile maintenance) * Resolving errors related to configuration issues, extension of sales organization and material, order, delivery and invoice errors. * Working on LSMW for mass data update in the system * Working on monthly rotational activities like IDOCs failure, EDI error notification, short dumps.  Achievements: * Resolved maximum numbers of issues among the peer group members * Created maximum number of knowledge base articles for the project  Title: Training Duration: Two months Scope: Understanding of ES Methodologies, Project management and SAP SD    Area of Exposure: * Understanding fundamentals of Management with respect to IT sector * Learning SAP SD (Sales and distribution domain) * RFP creation  Achievements: * Successfully cleared P100 and P200 certifications * Successfully completed RFP and POST * Successfully cleared all exams with score more than 4 out of 5  EDUCATION  MBA in Marketing  IIT Roorkee -  Roorkee, Uttarakhand  2008 to 2010  Bachelor of Engineering in Electronics and Communication  Shri Vaishnav Institute of Technology and Science, RGPV University -  Indore, Madhya Pradesh  2004 to 2008  CBSE  St. Paul H.S. School -  Indore, Madhya Pradesh  2002 to 2003  Higher Secondary Certificate  Shanti Nagar High School, Maharashtra board -  Mumbai, Maharashtra  1999 to 2000  SKILLS  Sap Sd (7 years)',\n",
              " {'entities': [(8576, 8593, 'Skills'),\n",
              "   (8383, 8387, 'Graduation Year'),\n",
              "   (8281, 8348, 'College Name'),\n",
              "   (8223, 8280, 'Degree'),\n",
              "   (8209, 8213, 'Graduation Year'),\n",
              "   (8172, 8184, 'College Name'),\n",
              "   (8154, 8170, 'Degree'),\n",
              "   (6979, 6988, 'Companies worked at'),\n",
              "   (6873, 6882, 'Companies worked at'),\n",
              "   (2167, 2178, 'Designation'),\n",
              "   (1576, 1580, 'Location'),\n",
              "   (1563, 1608, 'Email Address'),\n",
              "   (1130, 1141, 'Designation'),\n",
              "   (192, 201, 'Companies worked at'),\n",
              "   (179, 190, 'Designation'),\n",
              "   (84, 129, 'Email Address'),\n",
              "   (44, 48, 'Location'),\n",
              "   (30, 39, 'Companies worked at'),\n",
              "   (16, 27, 'Designation'),\n",
              "   (0, 15, 'Name'),\n",
              "   (0, 4, 'Location')]})"
            ]
          },
          "metadata": {},
          "execution_count": 8
        }
      ]
    },
    {
      "cell_type": "markdown",
      "metadata": {
        "id": "TUKebv40whyS"
      },
      "source": [
        "**The structure of our train data**\n",
        "\n",
        "Our train data is saved as a tuple of 200 resume data, with each resume data consisting of two parts/indices.\n",
        "\n",
        "The first index [0] includes all the resume's data (Name, degree, designation, and companies worked for).\n",
        "\n",
        "The second index [1] comprises a dictionary object with only one key, namely 'entities,' and its value is carefully examined.\n",
        "The value of the 'entities' key is a list of tuples, with some number and some labeling in each tuple.\n",
        "\n",
        "For example (0, 15, 'Name'), 0 represents the start index, and 15 denotes the end index of the label ' Name,' which is 'Puneet Bhandari.' Similarly, we can see that each other tuple has a start and end index and its label."
      ]
    },
    {
      "cell_type": "code",
      "metadata": {
        "id": "o-9_WePA-xmx"
      },
      "source": [
        "# loading blank spacy model as we want to customize our model.\n",
        "# spacy.blank('en') will create a blank model of a given language class i.e., for here English.\n",
        "\n",
        "nlp = spacy.blank('en') "
      ],
      "execution_count": null,
      "outputs": []
    },
    {
      "cell_type": "code",
      "metadata": {
        "id": "UGzQvNfU-0yk"
      },
      "source": [
        "# Creating a function to train our model\n",
        "\n",
        "def train_model(train_data):\n",
        "    \n",
        "  if 'ner' not in nlp.pipe_names:# Checking if NER is present in pipeline\n",
        "    ner = nlp.create_pipe('ner') # creating NER pipe if not present\n",
        "    nlp.add_pipe(ner, last=True) # adding NER pipe in the end\n",
        "\n",
        "  for _, annotation in train_data: # Getting 1 resume at a time from our training data of 200 resumes\n",
        "    for ent in annotation['entities']: # Getting each tuple at a time from 'entities' key in dictionary at index[1] i.e.,(0, 15, 'Name') and so on\n",
        "      ner.add_label(ent[2])  # here we are adding only labels of each tuple from entities key dict, eg:- 'Name' label of (0, 15, 'Name')\n",
        "    \n",
        "  # In above for loop we finally added all custom NER from training data.\n",
        "    \n",
        "\n",
        "  other_pipes = [pipe for pipe in nlp.pipe_names if pipe != 'ner'] # getting all other pipes except NER.\n",
        "  with nlp.disable_pipes(*other_pipes): # Disabling other pipe's as we want to train only NER.\n",
        "        optimizer = nlp.begin_training()\n",
        "        \n",
        "        for itn in range(10):         # training model for 10 iteraion\n",
        "            print('Starting iteration ' + str(itn))\n",
        "            random.shuffle(train_data) # shuffling data in every iteration \n",
        "            losses = {}\n",
        "            for text, annotations in train_data:\n",
        "              try:\n",
        "                nlp.update(\n",
        "                    [text],        #batch of texts\n",
        "                    [annotations], #batch of annotations\n",
        "                    drop=0.2,      #dropout rate -makes it harder to memorise\n",
        "                    sgd=optimizer, #callable to update weights\n",
        "                    losses=losses) #Dictionary to update with the loss, keyed by pipeline component.\n",
        "              except Exception as e:\n",
        "                pass"
      ],
      "execution_count": null,
      "outputs": []
    },
    {
      "cell_type": "code",
      "metadata": {
        "colab": {
          "base_uri": "https://localhost:8080/"
        },
        "id": "fUdwTyUi-5JK",
        "outputId": "d6adff3d-bac6-4223-c88c-5527d9bfaf66"
      },
      "source": [
        "# pass train data to function.\n",
        "\n",
        "train_model(train_data)"
      ],
      "execution_count": null,
      "outputs": [
        {
          "output_type": "stream",
          "name": "stdout",
          "text": [
            "Starting iteration 0\n",
            "Starting iteration 1\n",
            "Starting iteration 2\n",
            "Starting iteration 3\n",
            "Starting iteration 4\n",
            "Starting iteration 5\n",
            "Starting iteration 6\n",
            "Starting iteration 7\n",
            "Starting iteration 8\n",
            "Starting iteration 9\n"
          ]
        }
      ]
    },
    {
      "cell_type": "code",
      "metadata": {
        "id": "bTjnVNM9-8hd"
      },
      "source": [
        "# Saving our trained model to re-use.\n",
        "\n",
        "nlp.to_disk('nlp_model')"
      ],
      "execution_count": null,
      "outputs": []
    },
    {
      "cell_type": "code",
      "metadata": {
        "id": "uPjqz7C4_yoc"
      },
      "source": [
        "# Loading our trained model\n",
        "\n",
        "nlp_model = spacy.load('nlp_model')"
      ],
      "execution_count": null,
      "outputs": []
    },
    {
      "cell_type": "code",
      "metadata": {
        "colab": {
          "base_uri": "https://localhost:8080/"
        },
        "id": "SqizgkI6_0a8",
        "outputId": "60ee8aaa-5853-46a6-d2a6-af03b5bdba67"
      },
      "source": [
        "# Checking all the custom NER created\n",
        "\n",
        "nlp_model.entity.labels"
      ],
      "execution_count": null,
      "outputs": [
        {
          "output_type": "execute_result",
          "data": {
            "text/plain": [
              "('College Name',\n",
              " 'Companies worked at',\n",
              " 'Degree',\n",
              " 'Designation',\n",
              " 'Email Address',\n",
              " 'Graduation Year',\n",
              " 'Location',\n",
              " 'Name',\n",
              " 'Skills',\n",
              " 'UNKNOWN',\n",
              " 'Years of Experience')"
            ]
          },
          "metadata": {},
          "execution_count": 39
        }
      ]
    },
    {
      "cell_type": "code",
      "metadata": {
        "colab": {
          "base_uri": "https://localhost:8080/"
        },
        "id": "CKJYNWS4_2dN",
        "outputId": "55f12b55-18ba-41b9-92ea-8095c7483d5c"
      },
      "source": [
        "doc = nlp_model(\" \".join(alice_cv.split('\\n')))\n",
        "for ent in doc.ents:\n",
        "  print(f'{ent.label_.upper():{20}} - {ent.text}')"
      ],
      "execution_count": null,
      "outputs": [
        {
          "output_type": "stream",
          "name": "stdout",
          "text": [
            "NAME                 - Alice Clark\n",
            "LOCATION             - Delhi\n",
            "DESIGNATION          - Software Engineer\n",
            "COMPANIES WORKED AT  - Microsoft –\n",
            "COMPANIES WORKED AT  - Microsoft\n",
            "COMPANIES WORKED AT  - Microsoft\n",
            "DEGREE               - Indian Institute of Technology – Mumbai\n",
            "GRADUATION YEAR      - 2001\n"
          ]
        }
      ]
    },
    {
      "cell_type": "code",
      "metadata": {
        "id": "I4JwwxNu_4vn"
      },
      "source": [
        ""
      ],
      "execution_count": null,
      "outputs": []
    }
  ]
}